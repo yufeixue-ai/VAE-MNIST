{
 "cells": [
  {
   "cell_type": "code",
   "execution_count": 5,
   "metadata": {},
   "outputs": [
    {
     "name": "stdout",
     "output_type": "stream",
     "text": [
      "compressed representation: [534094234    250640]\n",
      "(in binary: ['0b11111110101011010000110011010', '0b111101001100010000'])\n",
      "compressed size: 47 bits\n"
     ]
    }
   ],
   "source": [
    "import constriction\n",
    "import numpy as np\n",
    "\n",
    "message = np.array([6, 10, 2, 2, 5, 2, 1, 2, 2], dtype=np.int32)\n",
    "\n",
    "# Define an i.i.d. entropy model (see below for more complex models):\n",
    "entropy_model = constriction.stream.model.QuantizedGaussian(-50, 50, message.mean(), message.std())\n",
    "\n",
    "# Let's use an ANS coder in this example. See below for a Range Coder example.\n",
    "encoder = constriction.stream.stack.AnsCoder()\n",
    "encoder.encode_reverse(message, entropy_model)\n",
    "\n",
    "compressed = encoder.get_compressed()\n",
    "print(f\"compressed representation: {compressed}\")\n",
    "print(f\"(in binary: {[bin(word) for word in compressed]})\")\n",
    "\n",
    "# calculate the size of the compressed message\n",
    "compressed_size = sum(len(bin(word)) - 2 for word in compressed)\n",
    "print(f\"compressed size: {compressed_size} bits\")\n",
    "decoder = constriction.stream.stack.AnsCoder(compressed)\n",
    "decoded = decoder.decode(entropy_model, 9) # (decodes 9 symbols)\n",
    "assert np.all(decoded == message)"
   ]
  },
  {
   "cell_type": "code",
   "execution_count": null,
   "metadata": {},
   "outputs": [],
   "source": []
  },
  {
   "cell_type": "code",
   "execution_count": null,
   "metadata": {},
   "outputs": [],
   "source": []
  }
 ],
 "metadata": {
  "kernelspec": {
   "display_name": "course",
   "language": "python",
   "name": "python3"
  },
  "language_info": {
   "codemirror_mode": {
    "name": "ipython",
    "version": 3
   },
   "file_extension": ".py",
   "mimetype": "text/x-python",
   "name": "python",
   "nbconvert_exporter": "python",
   "pygments_lexer": "ipython3",
   "version": "3.9.19"
  }
 },
 "nbformat": 4,
 "nbformat_minor": 2
}
